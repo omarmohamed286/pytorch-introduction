{
 "cells": [
  {
   "cell_type": "code",
   "execution_count": 1,
   "id": "866a9c7b-b01e-4092-80e3-5a4f4d11de64",
   "metadata": {},
   "outputs": [],
   "source": [
    "from torchvision import datasets\n",
    "from torchvision.transforms import ToTensor"
   ]
  },
  {
   "cell_type": "code",
   "execution_count": 2,
   "id": "acb9934b-f255-4213-91c0-08dc034c649e",
   "metadata": {},
   "outputs": [],
   "source": [
    "train_data = datasets.MNIST(root = 'data',train=True,transform=ToTensor(),download=True)\n",
    "test_data = datasets.MNIST(root = 'data',train=False,transform=ToTensor(),download=True)"
   ]
  },
  {
   "cell_type": "code",
   "execution_count": 3,
   "id": "c0e51309-ffed-4e44-91da-c0fe1528f3ea",
   "metadata": {},
   "outputs": [
    {
     "data": {
      "text/plain": [
       "Dataset MNIST\n",
       "    Number of datapoints: 60000\n",
       "    Root location: data\n",
       "    Split: Train\n",
       "    StandardTransform\n",
       "Transform: ToTensor()"
      ]
     },
     "execution_count": 3,
     "metadata": {},
     "output_type": "execute_result"
    }
   ],
   "source": [
    "train_data"
   ]
  },
  {
   "cell_type": "code",
   "execution_count": 4,
   "id": "e7efed24-1cf6-4685-9232-b80a8e354d33",
   "metadata": {},
   "outputs": [
    {
     "data": {
      "text/plain": [
       "Dataset MNIST\n",
       "    Number of datapoints: 10000\n",
       "    Root location: data\n",
       "    Split: Test\n",
       "    StandardTransform\n",
       "Transform: ToTensor()"
      ]
     },
     "execution_count": 4,
     "metadata": {},
     "output_type": "execute_result"
    }
   ],
   "source": [
    "test_data"
   ]
  },
  {
   "cell_type": "code",
   "execution_count": 5,
   "id": "467d466e-5cee-4533-a04d-99f63b801a00",
   "metadata": {},
   "outputs": [
    {
     "data": {
      "text/plain": [
       "torch.Size([60000, 28, 28])"
      ]
     },
     "execution_count": 5,
     "metadata": {},
     "output_type": "execute_result"
    }
   ],
   "source": [
    "train_data.data.shape"
   ]
  },
  {
   "cell_type": "code",
   "execution_count": 6,
   "id": "c47609cf-c86c-41b1-abc6-729ca8d4ad77",
   "metadata": {},
   "outputs": [
    {
     "data": {
      "text/plain": [
       "torch.Size([10000, 28, 28])"
      ]
     },
     "execution_count": 6,
     "metadata": {},
     "output_type": "execute_result"
    }
   ],
   "source": [
    "test_data.data.shape"
   ]
  },
  {
   "cell_type": "code",
   "execution_count": 7,
   "id": "974f1d3a-30f1-4665-85ce-92c85f97aef7",
   "metadata": {},
   "outputs": [],
   "source": [
    "from torch.utils.data import DataLoader\n",
    "\n",
    "loaders = {\n",
    "    'train': DataLoader(train_data,batch_size = 100, shuffle = True, num_workers = 1),\n",
    "    'test': DataLoader(test_data,batch_size = 100, shuffle = True, num_workers = 1)\n",
    "}"
   ]
  },
  {
   "cell_type": "code",
   "execution_count": 8,
   "id": "2e880a45-9368-470d-b8da-3f69e51dec2f",
   "metadata": {},
   "outputs": [
    {
     "data": {
      "text/plain": [
       "{'train': <torch.utils.data.dataloader.DataLoader at 0x1ca5bb6b490>,\n",
       " 'test': <torch.utils.data.dataloader.DataLoader at 0x1ca5b5b5110>}"
      ]
     },
     "execution_count": 8,
     "metadata": {},
     "output_type": "execute_result"
    }
   ],
   "source": [
    "loaders"
   ]
  },
  {
   "cell_type": "code",
   "execution_count": 9,
   "id": "7c0b3b3f-e219-4a08-ba05-09ca72f5abcf",
   "metadata": {},
   "outputs": [],
   "source": [
    "import torch.nn as nn\n",
    "import torch.nn.functional as F\n",
    "import torch.optim as optim\n",
    "\n",
    "\n",
    "class CNN(nn.Module):\n",
    "    def __init__(self):\n",
    "        super().__init__()\n",
    "        self.conv1 = nn.Conv2d(1, 10, kernel_size=5)\n",
    "        self.conv2 = nn.Conv2d(10, 20, kernel_size=5)\n",
    "        self.conv2_dropout = nn.Dropout2d()\n",
    "        self.fc1 = nn.Linear(320, 50)\n",
    "        self.fc2 = nn.Linear(50, 10)\n",
    "\n",
    "    def forward(self, x):\n",
    "        x = F.relu(F.max_pool2d(self.conv1(x),2))\n",
    "        x = F.relu(F.max_pool2d(self.conv2_dropout(self.conv2(x)),2))\n",
    "        x = x.view(-1,320)\n",
    "        x = F.relu(self.fc1(x))\n",
    "        x = F.dropout(x,training=self.training)\n",
    "        x = self.fc2(x)\n",
    "        return F.softmax(x)"
   ]
  },
  {
   "cell_type": "code",
   "execution_count": 10,
   "id": "29400dbf-5655-494a-97ee-b4ba0195f852",
   "metadata": {},
   "outputs": [],
   "source": [
    "import torch\n",
    "\n",
    "device = 'cuda' if torch.cuda.is_available() else 'cpu'"
   ]
  },
  {
   "cell_type": "code",
   "execution_count": 11,
   "id": "abcb5323-866c-4ea8-be18-60152635bbe7",
   "metadata": {},
   "outputs": [],
   "source": [
    "model = CNN().to(device)\n",
    "\n",
    "lr = 0.001\n",
    "\n",
    "optimizer = optim.Adam(model.parameters(),lr=lr)\n",
    "\n",
    "loss_fn = nn.CrossEntropyLoss()\n",
    "\n",
    "def train(epoch):\n",
    "    model.train()\n",
    "    for batch_idx , (feature , label) in enumerate(loaders['train']):\n",
    "        feature , label = feature.to(device) , label.to(device)\n",
    "        optimizer.zero_grad()\n",
    "        output = model(feature)\n",
    "        loss = loss_fn(output, label)\n",
    "        loss.backward()\n",
    "        optimizer.step()\n",
    "        if batch_idx % 20 == 0:\n",
    "            print(f'Train Epoch {epoch} [{batch_idx * len(feature)} / {len(loaders[\"train\"].dataset)} ({100. * batch_idx / len(loaders[\"train\"]):.0f}%)]\\t{loss.item():.6f}')\n",
    "\n",
    "def test():\n",
    "    model.eval()\n",
    "    test_loss = 0\n",
    "    correct = 0\n",
    "\n",
    "    with torch.no_grad():\n",
    "        for feature , label in loaders['test']:\n",
    "            feature , label = feature.to(device) , label.to(device)\n",
    "            output = model(feature)\n",
    "            test_loss += loss_fn(output, label).item()\n",
    "            pred = output.argmax(dim = 1, keepdim = True)\n",
    "            correct += pred.eq(label.view_as(pred)).sum().item()\n",
    "\n",
    "    test_loss /= len(loaders['test'].dataset)\n",
    "    print(f'\\nTest set average loss: {test_loss:.4f}, Accuracy {correct}/{len(loaders[\"test\"].dataset)} ({100. * correct / len(loaders[\"test\"].dataset):.0f}%\\n)')"
   ]
  },
  {
   "cell_type": "code",
   "execution_count": 12,
   "id": "e9312bbc-fba8-4912-a52f-093de4d89a43",
   "metadata": {},
   "outputs": [
    {
     "name": "stderr",
     "output_type": "stream",
     "text": [
      "C:\\Users\\M.HEPTON\\AppData\\Local\\Temp\\ipykernel_16148\\3872845326.py:22: UserWarning: Implicit dimension choice for softmax has been deprecated. Change the call to include dim=X as an argument.\n",
      "  return F.softmax(x)\n"
     ]
    },
    {
     "name": "stdout",
     "output_type": "stream",
     "text": [
      "Train Epoch 1 [0 / 60000 (0%)]\t2.304220\n",
      "Train Epoch 1 [2000 / 60000 (3%)]\t2.294413\n",
      "Train Epoch 1 [4000 / 60000 (7%)]\t2.217700\n",
      "Train Epoch 1 [6000 / 60000 (10%)]\t2.031402\n",
      "Train Epoch 1 [8000 / 60000 (13%)]\t1.981275\n",
      "Train Epoch 1 [10000 / 60000 (17%)]\t1.906870\n",
      "Train Epoch 1 [12000 / 60000 (20%)]\t1.917311\n",
      "Train Epoch 1 [14000 / 60000 (23%)]\t1.844629\n",
      "Train Epoch 1 [16000 / 60000 (27%)]\t1.755119\n",
      "Train Epoch 1 [18000 / 60000 (30%)]\t1.769073\n",
      "Train Epoch 1 [20000 / 60000 (33%)]\t1.740011\n",
      "Train Epoch 1 [22000 / 60000 (37%)]\t1.757593\n",
      "Train Epoch 1 [24000 / 60000 (40%)]\t1.697444\n",
      "Train Epoch 1 [26000 / 60000 (43%)]\t1.719391\n",
      "Train Epoch 1 [28000 / 60000 (47%)]\t1.707078\n",
      "Train Epoch 1 [30000 / 60000 (50%)]\t1.720793\n",
      "Train Epoch 1 [32000 / 60000 (53%)]\t1.708080\n",
      "Train Epoch 1 [34000 / 60000 (57%)]\t1.681798\n",
      "Train Epoch 1 [36000 / 60000 (60%)]\t1.704705\n",
      "Train Epoch 1 [38000 / 60000 (63%)]\t1.645497\n",
      "Train Epoch 1 [40000 / 60000 (67%)]\t1.710940\n",
      "Train Epoch 1 [42000 / 60000 (70%)]\t1.676385\n",
      "Train Epoch 1 [44000 / 60000 (73%)]\t1.660084\n",
      "Train Epoch 1 [46000 / 60000 (77%)]\t1.670004\n",
      "Train Epoch 1 [48000 / 60000 (80%)]\t1.673632\n",
      "Train Epoch 1 [50000 / 60000 (83%)]\t1.716433\n",
      "Train Epoch 1 [52000 / 60000 (87%)]\t1.653271\n",
      "Train Epoch 1 [54000 / 60000 (90%)]\t1.653030\n",
      "Train Epoch 1 [56000 / 60000 (93%)]\t1.735350\n",
      "Train Epoch 1 [58000 / 60000 (97%)]\t1.665956\n",
      "\n",
      "Test set average loss: 0.0160, Accuracy 8576/10000 (86%\n",
      ")\n",
      "Train Epoch 2 [0 / 60000 (0%)]\t1.675753\n",
      "Train Epoch 2 [2000 / 60000 (3%)]\t1.619459\n",
      "Train Epoch 2 [4000 / 60000 (7%)]\t1.680418\n",
      "Train Epoch 2 [6000 / 60000 (10%)]\t1.625320\n",
      "Train Epoch 2 [8000 / 60000 (13%)]\t1.680010\n",
      "Train Epoch 2 [10000 / 60000 (17%)]\t1.649647\n",
      "Train Epoch 2 [12000 / 60000 (20%)]\t1.665864\n",
      "Train Epoch 2 [14000 / 60000 (23%)]\t1.590742\n",
      "Train Epoch 2 [16000 / 60000 (27%)]\t1.676066\n",
      "Train Epoch 2 [18000 / 60000 (30%)]\t1.666049\n",
      "Train Epoch 2 [20000 / 60000 (33%)]\t1.647859\n",
      "Train Epoch 2 [22000 / 60000 (37%)]\t1.653920\n",
      "Train Epoch 2 [24000 / 60000 (40%)]\t1.701260\n",
      "Train Epoch 2 [26000 / 60000 (43%)]\t1.560088\n",
      "Train Epoch 2 [28000 / 60000 (47%)]\t1.623151\n",
      "Train Epoch 2 [30000 / 60000 (50%)]\t1.578615\n",
      "Train Epoch 2 [32000 / 60000 (53%)]\t1.576360\n",
      "Train Epoch 2 [34000 / 60000 (57%)]\t1.624033\n",
      "Train Epoch 2 [36000 / 60000 (60%)]\t1.648396\n",
      "Train Epoch 2 [38000 / 60000 (63%)]\t1.558614\n",
      "Train Epoch 2 [40000 / 60000 (67%)]\t1.564909\n",
      "Train Epoch 2 [42000 / 60000 (70%)]\t1.582167\n",
      "Train Epoch 2 [44000 / 60000 (73%)]\t1.604996\n",
      "Train Epoch 2 [46000 / 60000 (77%)]\t1.561240\n",
      "Train Epoch 2 [48000 / 60000 (80%)]\t1.627719\n",
      "Train Epoch 2 [50000 / 60000 (83%)]\t1.593862\n",
      "Train Epoch 2 [52000 / 60000 (87%)]\t1.604254\n",
      "Train Epoch 2 [54000 / 60000 (90%)]\t1.552477\n",
      "Train Epoch 2 [56000 / 60000 (93%)]\t1.579381\n",
      "Train Epoch 2 [58000 / 60000 (97%)]\t1.551240\n",
      "\n",
      "Test set average loss: 0.0152, Accuracy 9447/10000 (94%\n",
      ")\n",
      "Train Epoch 3 [0 / 60000 (0%)]\t1.555456\n",
      "Train Epoch 3 [2000 / 60000 (3%)]\t1.594900\n",
      "Train Epoch 3 [4000 / 60000 (7%)]\t1.564202\n",
      "Train Epoch 3 [6000 / 60000 (10%)]\t1.632950\n",
      "Train Epoch 3 [8000 / 60000 (13%)]\t1.559973\n",
      "Train Epoch 3 [10000 / 60000 (17%)]\t1.587358\n",
      "Train Epoch 3 [12000 / 60000 (20%)]\t1.624367\n",
      "Train Epoch 3 [14000 / 60000 (23%)]\t1.599781\n",
      "Train Epoch 3 [16000 / 60000 (27%)]\t1.551345\n",
      "Train Epoch 3 [18000 / 60000 (30%)]\t1.628458\n",
      "Train Epoch 3 [20000 / 60000 (33%)]\t1.627761\n",
      "Train Epoch 3 [22000 / 60000 (37%)]\t1.603545\n",
      "Train Epoch 3 [24000 / 60000 (40%)]\t1.619961\n",
      "Train Epoch 3 [26000 / 60000 (43%)]\t1.523804\n",
      "Train Epoch 3 [28000 / 60000 (47%)]\t1.559385\n",
      "Train Epoch 3 [30000 / 60000 (50%)]\t1.558093\n",
      "Train Epoch 3 [32000 / 60000 (53%)]\t1.612680\n",
      "Train Epoch 3 [34000 / 60000 (57%)]\t1.618667\n",
      "Train Epoch 3 [36000 / 60000 (60%)]\t1.581623\n",
      "Train Epoch 3 [38000 / 60000 (63%)]\t1.553223\n",
      "Train Epoch 3 [40000 / 60000 (67%)]\t1.573501\n",
      "Train Epoch 3 [42000 / 60000 (70%)]\t1.606035\n",
      "Train Epoch 3 [44000 / 60000 (73%)]\t1.580612\n",
      "Train Epoch 3 [46000 / 60000 (77%)]\t1.548770\n",
      "Train Epoch 3 [48000 / 60000 (80%)]\t1.579073\n",
      "Train Epoch 3 [50000 / 60000 (83%)]\t1.551012\n",
      "Train Epoch 3 [52000 / 60000 (87%)]\t1.595061\n",
      "Train Epoch 3 [54000 / 60000 (90%)]\t1.546469\n",
      "Train Epoch 3 [56000 / 60000 (93%)]\t1.525382\n",
      "Train Epoch 3 [58000 / 60000 (97%)]\t1.543247\n",
      "\n",
      "Test set average loss: 0.0151, Accuracy 9553/10000 (96%\n",
      ")\n",
      "Train Epoch 4 [0 / 60000 (0%)]\t1.558740\n",
      "Train Epoch 4 [2000 / 60000 (3%)]\t1.568786\n",
      "Train Epoch 4 [4000 / 60000 (7%)]\t1.610503\n",
      "Train Epoch 4 [6000 / 60000 (10%)]\t1.518815\n",
      "Train Epoch 4 [8000 / 60000 (13%)]\t1.585048\n",
      "Train Epoch 4 [10000 / 60000 (17%)]\t1.538008\n",
      "Train Epoch 4 [12000 / 60000 (20%)]\t1.553951\n",
      "Train Epoch 4 [14000 / 60000 (23%)]\t1.552689\n",
      "Train Epoch 4 [16000 / 60000 (27%)]\t1.572100\n",
      "Train Epoch 4 [18000 / 60000 (30%)]\t1.551087\n",
      "Train Epoch 4 [20000 / 60000 (33%)]\t1.539310\n",
      "Train Epoch 4 [22000 / 60000 (37%)]\t1.577124\n",
      "Train Epoch 4 [24000 / 60000 (40%)]\t1.512074\n",
      "Train Epoch 4 [26000 / 60000 (43%)]\t1.519144\n",
      "Train Epoch 4 [28000 / 60000 (47%)]\t1.582824\n",
      "Train Epoch 4 [30000 / 60000 (50%)]\t1.561002\n",
      "Train Epoch 4 [32000 / 60000 (53%)]\t1.553199\n",
      "Train Epoch 4 [34000 / 60000 (57%)]\t1.551727\n",
      "Train Epoch 4 [36000 / 60000 (60%)]\t1.596591\n",
      "Train Epoch 4 [38000 / 60000 (63%)]\t1.521852\n",
      "Train Epoch 4 [40000 / 60000 (67%)]\t1.542659\n",
      "Train Epoch 4 [42000 / 60000 (70%)]\t1.536862\n",
      "Train Epoch 4 [44000 / 60000 (73%)]\t1.541289\n",
      "Train Epoch 4 [46000 / 60000 (77%)]\t1.564310\n",
      "Train Epoch 4 [48000 / 60000 (80%)]\t1.515298\n",
      "Train Epoch 4 [50000 / 60000 (83%)]\t1.532804\n",
      "Train Epoch 4 [52000 / 60000 (87%)]\t1.551910\n",
      "Train Epoch 4 [54000 / 60000 (90%)]\t1.532588\n",
      "Train Epoch 4 [56000 / 60000 (93%)]\t1.533945\n",
      "Train Epoch 4 [58000 / 60000 (97%)]\t1.542529\n",
      "\n",
      "Test set average loss: 0.0150, Accuracy 9581/10000 (96%\n",
      ")\n",
      "Train Epoch 5 [0 / 60000 (0%)]\t1.556654\n",
      "Train Epoch 5 [2000 / 60000 (3%)]\t1.541703\n",
      "Train Epoch 5 [4000 / 60000 (7%)]\t1.534023\n",
      "Train Epoch 5 [6000 / 60000 (10%)]\t1.545992\n",
      "Train Epoch 5 [8000 / 60000 (13%)]\t1.574071\n",
      "Train Epoch 5 [10000 / 60000 (17%)]\t1.520237\n",
      "Train Epoch 5 [12000 / 60000 (20%)]\t1.544351\n",
      "Train Epoch 5 [14000 / 60000 (23%)]\t1.520373\n",
      "Train Epoch 5 [16000 / 60000 (27%)]\t1.481145\n",
      "Train Epoch 5 [18000 / 60000 (30%)]\t1.567545\n",
      "Train Epoch 5 [20000 / 60000 (33%)]\t1.568638\n",
      "Train Epoch 5 [22000 / 60000 (37%)]\t1.522272\n",
      "Train Epoch 5 [24000 / 60000 (40%)]\t1.558725\n",
      "Train Epoch 5 [26000 / 60000 (43%)]\t1.520556\n",
      "Train Epoch 5 [28000 / 60000 (47%)]\t1.561504\n",
      "Train Epoch 5 [30000 / 60000 (50%)]\t1.513797\n",
      "Train Epoch 5 [32000 / 60000 (53%)]\t1.569737\n",
      "Train Epoch 5 [34000 / 60000 (57%)]\t1.535106\n",
      "Train Epoch 5 [36000 / 60000 (60%)]\t1.542119\n",
      "Train Epoch 5 [38000 / 60000 (63%)]\t1.506667\n",
      "Train Epoch 5 [40000 / 60000 (67%)]\t1.553199\n",
      "Train Epoch 5 [42000 / 60000 (70%)]\t1.559476\n",
      "Train Epoch 5 [44000 / 60000 (73%)]\t1.513960\n",
      "Train Epoch 5 [46000 / 60000 (77%)]\t1.596449\n",
      "Train Epoch 5 [48000 / 60000 (80%)]\t1.543423\n",
      "Train Epoch 5 [50000 / 60000 (83%)]\t1.550975\n",
      "Train Epoch 5 [52000 / 60000 (87%)]\t1.517271\n",
      "Train Epoch 5 [54000 / 60000 (90%)]\t1.547106\n",
      "Train Epoch 5 [56000 / 60000 (93%)]\t1.567935\n",
      "Train Epoch 5 [58000 / 60000 (97%)]\t1.540889\n",
      "\n",
      "Test set average loss: 0.0150, Accuracy 9621/10000 (96%\n",
      ")\n",
      "Train Epoch 6 [0 / 60000 (0%)]\t1.475602\n",
      "Train Epoch 6 [2000 / 60000 (3%)]\t1.559132\n",
      "Train Epoch 6 [4000 / 60000 (7%)]\t1.514633\n",
      "Train Epoch 6 [6000 / 60000 (10%)]\t1.586948\n",
      "Train Epoch 6 [8000 / 60000 (13%)]\t1.550273\n",
      "Train Epoch 6 [10000 / 60000 (17%)]\t1.581350\n",
      "Train Epoch 6 [12000 / 60000 (20%)]\t1.532599\n",
      "Train Epoch 6 [14000 / 60000 (23%)]\t1.539617\n",
      "Train Epoch 6 [16000 / 60000 (27%)]\t1.546157\n",
      "Train Epoch 6 [18000 / 60000 (30%)]\t1.516516\n",
      "Train Epoch 6 [20000 / 60000 (33%)]\t1.590177\n",
      "Train Epoch 6 [22000 / 60000 (37%)]\t1.544848\n",
      "Train Epoch 6 [24000 / 60000 (40%)]\t1.552737\n",
      "Train Epoch 6 [26000 / 60000 (43%)]\t1.520490\n",
      "Train Epoch 6 [28000 / 60000 (47%)]\t1.554216\n",
      "Train Epoch 6 [30000 / 60000 (50%)]\t1.548731\n",
      "Train Epoch 6 [32000 / 60000 (53%)]\t1.530249\n",
      "Train Epoch 6 [34000 / 60000 (57%)]\t1.514243\n",
      "Train Epoch 6 [36000 / 60000 (60%)]\t1.550796\n",
      "Train Epoch 6 [38000 / 60000 (63%)]\t1.521479\n",
      "Train Epoch 6 [40000 / 60000 (67%)]\t1.525723\n",
      "Train Epoch 6 [42000 / 60000 (70%)]\t1.539707\n",
      "Train Epoch 6 [44000 / 60000 (73%)]\t1.538265\n",
      "Train Epoch 6 [46000 / 60000 (77%)]\t1.524067\n",
      "Train Epoch 6 [48000 / 60000 (80%)]\t1.552343\n",
      "Train Epoch 6 [50000 / 60000 (83%)]\t1.539343\n",
      "Train Epoch 6 [52000 / 60000 (87%)]\t1.531041\n",
      "Train Epoch 6 [54000 / 60000 (90%)]\t1.492186\n",
      "Train Epoch 6 [56000 / 60000 (93%)]\t1.547889\n",
      "Train Epoch 6 [58000 / 60000 (97%)]\t1.537031\n",
      "\n",
      "Test set average loss: 0.0150, Accuracy 9661/10000 (97%\n",
      ")\n",
      "Train Epoch 7 [0 / 60000 (0%)]\t1.542091\n",
      "Train Epoch 7 [2000 / 60000 (3%)]\t1.550706\n",
      "Train Epoch 7 [4000 / 60000 (7%)]\t1.547974\n",
      "Train Epoch 7 [6000 / 60000 (10%)]\t1.515037\n",
      "Train Epoch 7 [8000 / 60000 (13%)]\t1.511873\n",
      "Train Epoch 7 [10000 / 60000 (17%)]\t1.503691\n",
      "Train Epoch 7 [12000 / 60000 (20%)]\t1.532919\n",
      "Train Epoch 7 [14000 / 60000 (23%)]\t1.599638\n",
      "Train Epoch 7 [16000 / 60000 (27%)]\t1.554983\n",
      "Train Epoch 7 [18000 / 60000 (30%)]\t1.523914\n",
      "Train Epoch 7 [20000 / 60000 (33%)]\t1.518571\n",
      "Train Epoch 7 [22000 / 60000 (37%)]\t1.513280\n",
      "Train Epoch 7 [24000 / 60000 (40%)]\t1.568810\n",
      "Train Epoch 7 [26000 / 60000 (43%)]\t1.546299\n",
      "Train Epoch 7 [28000 / 60000 (47%)]\t1.515548\n",
      "Train Epoch 7 [30000 / 60000 (50%)]\t1.534673\n",
      "Train Epoch 7 [32000 / 60000 (53%)]\t1.543112\n",
      "Train Epoch 7 [34000 / 60000 (57%)]\t1.548206\n",
      "Train Epoch 7 [36000 / 60000 (60%)]\t1.550513\n",
      "Train Epoch 7 [38000 / 60000 (63%)]\t1.531712\n",
      "Train Epoch 7 [40000 / 60000 (67%)]\t1.530330\n",
      "Train Epoch 7 [42000 / 60000 (70%)]\t1.526388\n",
      "Train Epoch 7 [44000 / 60000 (73%)]\t1.580312\n",
      "Train Epoch 7 [46000 / 60000 (77%)]\t1.544969\n",
      "Train Epoch 7 [48000 / 60000 (80%)]\t1.547648\n",
      "Train Epoch 7 [50000 / 60000 (83%)]\t1.560150\n",
      "Train Epoch 7 [52000 / 60000 (87%)]\t1.537538\n",
      "Train Epoch 7 [54000 / 60000 (90%)]\t1.523875\n",
      "Train Epoch 7 [56000 / 60000 (93%)]\t1.544097\n",
      "Train Epoch 7 [58000 / 60000 (97%)]\t1.511136\n",
      "\n",
      "Test set average loss: 0.0149, Accuracy 9683/10000 (97%\n",
      ")\n",
      "Train Epoch 8 [0 / 60000 (0%)]\t1.572315\n",
      "Train Epoch 8 [2000 / 60000 (3%)]\t1.538115\n",
      "Train Epoch 8 [4000 / 60000 (7%)]\t1.519228\n",
      "Train Epoch 8 [6000 / 60000 (10%)]\t1.546063\n",
      "Train Epoch 8 [8000 / 60000 (13%)]\t1.526112\n",
      "Train Epoch 8 [10000 / 60000 (17%)]\t1.528033\n",
      "Train Epoch 8 [12000 / 60000 (20%)]\t1.512095\n",
      "Train Epoch 8 [14000 / 60000 (23%)]\t1.560477\n",
      "Train Epoch 8 [16000 / 60000 (27%)]\t1.519673\n",
      "Train Epoch 8 [18000 / 60000 (30%)]\t1.543430\n",
      "Train Epoch 8 [20000 / 60000 (33%)]\t1.559529\n",
      "Train Epoch 8 [22000 / 60000 (37%)]\t1.567600\n",
      "Train Epoch 8 [24000 / 60000 (40%)]\t1.541995\n",
      "Train Epoch 8 [26000 / 60000 (43%)]\t1.492863\n",
      "Train Epoch 8 [28000 / 60000 (47%)]\t1.537019\n",
      "Train Epoch 8 [30000 / 60000 (50%)]\t1.569953\n",
      "Train Epoch 8 [32000 / 60000 (53%)]\t1.492463\n",
      "Train Epoch 8 [34000 / 60000 (57%)]\t1.527303\n",
      "Train Epoch 8 [36000 / 60000 (60%)]\t1.554171\n",
      "Train Epoch 8 [38000 / 60000 (63%)]\t1.491755\n",
      "Train Epoch 8 [40000 / 60000 (67%)]\t1.547854\n",
      "Train Epoch 8 [42000 / 60000 (70%)]\t1.530766\n",
      "Train Epoch 8 [44000 / 60000 (73%)]\t1.505506\n",
      "Train Epoch 8 [46000 / 60000 (77%)]\t1.537759\n",
      "Train Epoch 8 [48000 / 60000 (80%)]\t1.520106\n",
      "Train Epoch 8 [50000 / 60000 (83%)]\t1.524916\n",
      "Train Epoch 8 [52000 / 60000 (87%)]\t1.548240\n",
      "Train Epoch 8 [54000 / 60000 (90%)]\t1.537124\n",
      "Train Epoch 8 [56000 / 60000 (93%)]\t1.504096\n",
      "Train Epoch 8 [58000 / 60000 (97%)]\t1.505119\n",
      "\n",
      "Test set average loss: 0.0149, Accuracy 9717/10000 (97%\n",
      ")\n",
      "Train Epoch 9 [0 / 60000 (0%)]\t1.542950\n",
      "Train Epoch 9 [2000 / 60000 (3%)]\t1.520321\n",
      "Train Epoch 9 [4000 / 60000 (7%)]\t1.512729\n",
      "Train Epoch 9 [6000 / 60000 (10%)]\t1.530887\n",
      "Train Epoch 9 [8000 / 60000 (13%)]\t1.536529\n",
      "Train Epoch 9 [10000 / 60000 (17%)]\t1.512764\n",
      "Train Epoch 9 [12000 / 60000 (20%)]\t1.561337\n",
      "Train Epoch 9 [14000 / 60000 (23%)]\t1.495143\n",
      "Train Epoch 9 [16000 / 60000 (27%)]\t1.474784\n",
      "Train Epoch 9 [18000 / 60000 (30%)]\t1.528306\n",
      "Train Epoch 9 [20000 / 60000 (33%)]\t1.522784\n",
      "Train Epoch 9 [22000 / 60000 (37%)]\t1.493744\n",
      "Train Epoch 9 [24000 / 60000 (40%)]\t1.524680\n",
      "Train Epoch 9 [26000 / 60000 (43%)]\t1.550035\n",
      "Train Epoch 9 [28000 / 60000 (47%)]\t1.547603\n",
      "Train Epoch 9 [30000 / 60000 (50%)]\t1.527104\n",
      "Train Epoch 9 [32000 / 60000 (53%)]\t1.537986\n",
      "Train Epoch 9 [34000 / 60000 (57%)]\t1.503108\n",
      "Train Epoch 9 [36000 / 60000 (60%)]\t1.504675\n",
      "Train Epoch 9 [38000 / 60000 (63%)]\t1.541389\n",
      "Train Epoch 9 [40000 / 60000 (67%)]\t1.514263\n",
      "Train Epoch 9 [42000 / 60000 (70%)]\t1.558346\n",
      "Train Epoch 9 [44000 / 60000 (73%)]\t1.530900\n",
      "Train Epoch 9 [46000 / 60000 (77%)]\t1.564175\n",
      "Train Epoch 9 [48000 / 60000 (80%)]\t1.514103\n",
      "Train Epoch 9 [50000 / 60000 (83%)]\t1.546624\n",
      "Train Epoch 9 [52000 / 60000 (87%)]\t1.532421\n",
      "Train Epoch 9 [54000 / 60000 (90%)]\t1.534206\n",
      "Train Epoch 9 [56000 / 60000 (93%)]\t1.506105\n",
      "Train Epoch 9 [58000 / 60000 (97%)]\t1.512979\n",
      "\n",
      "Test set average loss: 0.0149, Accuracy 9716/10000 (97%\n",
      ")\n",
      "Train Epoch 10 [0 / 60000 (0%)]\t1.497518\n",
      "Train Epoch 10 [2000 / 60000 (3%)]\t1.528626\n",
      "Train Epoch 10 [4000 / 60000 (7%)]\t1.518240\n",
      "Train Epoch 10 [6000 / 60000 (10%)]\t1.543969\n",
      "Train Epoch 10 [8000 / 60000 (13%)]\t1.552322\n",
      "Train Epoch 10 [10000 / 60000 (17%)]\t1.531092\n",
      "Train Epoch 10 [12000 / 60000 (20%)]\t1.502571\n",
      "Train Epoch 10 [14000 / 60000 (23%)]\t1.484929\n",
      "Train Epoch 10 [16000 / 60000 (27%)]\t1.511048\n",
      "Train Epoch 10 [18000 / 60000 (30%)]\t1.520103\n",
      "Train Epoch 10 [20000 / 60000 (33%)]\t1.547539\n",
      "Train Epoch 10 [22000 / 60000 (37%)]\t1.555147\n",
      "Train Epoch 10 [24000 / 60000 (40%)]\t1.533469\n",
      "Train Epoch 10 [26000 / 60000 (43%)]\t1.509769\n",
      "Train Epoch 10 [28000 / 60000 (47%)]\t1.518729\n",
      "Train Epoch 10 [30000 / 60000 (50%)]\t1.552006\n",
      "Train Epoch 10 [32000 / 60000 (53%)]\t1.521155\n",
      "Train Epoch 10 [34000 / 60000 (57%)]\t1.504427\n",
      "Train Epoch 10 [36000 / 60000 (60%)]\t1.523117\n",
      "Train Epoch 10 [38000 / 60000 (63%)]\t1.521087\n",
      "Train Epoch 10 [40000 / 60000 (67%)]\t1.507447\n",
      "Train Epoch 10 [42000 / 60000 (70%)]\t1.537584\n",
      "Train Epoch 10 [44000 / 60000 (73%)]\t1.519054\n",
      "Train Epoch 10 [46000 / 60000 (77%)]\t1.502144\n",
      "Train Epoch 10 [48000 / 60000 (80%)]\t1.534759\n",
      "Train Epoch 10 [50000 / 60000 (83%)]\t1.527131\n",
      "Train Epoch 10 [52000 / 60000 (87%)]\t1.532861\n",
      "Train Epoch 10 [54000 / 60000 (90%)]\t1.541640\n",
      "Train Epoch 10 [56000 / 60000 (93%)]\t1.533341\n",
      "Train Epoch 10 [58000 / 60000 (97%)]\t1.545536\n",
      "\n",
      "Test set average loss: 0.0149, Accuracy 9709/10000 (97%\n",
      ")\n"
     ]
    }
   ],
   "source": [
    "n_epochs = 10\n",
    "\n",
    "for epoch in range(1,n_epochs+1):\n",
    "    train(epoch)\n",
    "    test()"
   ]
  },
  {
   "cell_type": "code",
   "execution_count": 20,
   "id": "59725c69-d842-4522-8186-effb5459244f",
   "metadata": {},
   "outputs": [
    {
     "name": "stdout",
     "output_type": "stream",
     "text": [
      "Prediction: 2 \n",
      "Label: 2\n"
     ]
    },
    {
     "name": "stderr",
     "output_type": "stream",
     "text": [
      "C:\\Users\\M.HEPTON\\AppData\\Local\\Temp\\ipykernel_16148\\3872845326.py:22: UserWarning: Implicit dimension choice for softmax has been deprecated. Change the call to include dim=X as an argument.\n",
      "  return F.softmax(x)\n"
     ]
    },
    {
     "data": {
      "image/png": "[encoded data removed]",
      "text/plain": [
       "<Figure size 800x800 with 1 Axes>"
      ]
     },
     "metadata": {},
     "output_type": "display_data"
    },
    {
     "name": "stdout",
     "output_type": "stream",
     "text": [
      "Prediction: 1 \n",
      "Label: 1\n"
     ]
    },
    {
     "data": {
      "image/png": "[encoded data removed]",
      "text/plain": [
       "<Figure size 640x480 with 1 Axes>"
      ]
     },
     "metadata": {},
     "output_type": "display_data"
    },
    {
     "name": "stdout",
     "output_type": "stream",
     "text": [
      "Prediction: 0 \n",
      "Label: 0\n"
     ]
    },
    {
     "data": {
      "image/png": "[encoded data removed]",
      "text/plain": [
       "<Figure size 640x480 with 1 Axes>"
      ]
     },
     "metadata": {},
     "output_type": "display_data"
    },
    {
     "name": "stdout",
     "output_type": "stream",
     "text": [
      "Prediction: 4 \n",
      "Label: 4\n"
     ]
    },
    {
     "data": {
      "image/png": "[encoded data removed]",
      "text/plain": [
       "<Figure size 640x480 with 1 Axes>"
      ]
     },
     "metadata": {},
     "output_type": "display_data"
    },
    {
     "name": "stdout",
     "output_type": "stream",
     "text": [
      "Prediction: 1 \n",
      "Label: 1\n"
     ]
    },
    {
     "data": {
      "image/png": "[encoded data removed]",
      "text/plain": [
       "<Figure size 640x480 with 1 Axes>"
      ]
     },
     "metadata": {},
     "output_type": "display_data"
    },
    {
     "name": "stdout",
     "output_type": "stream",
     "text": [
      "Prediction: 4 \n",
      "Label: 4\n"
     ]
    },
    {
     "data": {
      "image/png": "[encoded data removed]",
      "text/plain": [
       "<Figure size 640x480 with 1 Axes>"
      ]
     },
     "metadata": {},
     "output_type": "display_data"
    },
    {
     "name": "stdout",
     "output_type": "stream",
     "text": [
      "Prediction: 9 \n",
      "Label: 9\n"
     ]
    },
    {
     "data": {
      "image/png": "[encoded data removed]",
      "text/plain": [
       "<Figure size 640x480 with 1 Axes>"
      ]
     },
     "metadata": {},
     "output_type": "display_data"
    },
    {
     "name": "stdout",
     "output_type": "stream",
     "text": [
      "Prediction: 5 \n",
      "Label: 5\n"
     ]
    },
    {
     "data": {
      "image/png": "[encoded data removed]",
      "text/plain": [
       "<Figure size 640x480 with 1 Axes>"
      ]
     },
     "metadata": {},
     "output_type": "display_data"
    },
    {
     "name": "stdout",
     "output_type": "stream",
     "text": [
      "Prediction: 9 \n",
      "Label: 9\n"
     ]
    },
    {
     "data": {
      "image/png": "[encoded data removed]",
      "text/plain": [
       "<Figure size 640x480 with 1 Axes>"
      ]
     },
     "metadata": {},
     "output_type": "display_data"
    },
    {
     "name": "stdout",
     "output_type": "stream",
     "text": [
      "Prediction: 0 \n",
      "Label: 0\n"
     ]
    },
    {
     "data": {
      "image/png": "[encoded data removed]",
      "text/plain": [
       "<Figure size 640x480 with 1 Axes>"
      ]
     },
     "metadata": {},
     "output_type": "display_data"
    }
   ],
   "source": [
    "import matplotlib.pyplot as plt\n",
    "\n",
    "plt.figure(figsize=(8,8))\n",
    "\n",
    "for i in range(1,11):\n",
    "    model.eval()\n",
    "\n",
    "    feature , label = test_data[i]\n",
    "    \n",
    "    feature = feature.unsqueeze(0).to(device)\n",
    "    \n",
    "    output = model(feature)\n",
    "    \n",
    "    prediction = output.argmax(dim=1 , keepdim = True).item()\n",
    "    \n",
    "    print(f\"Prediction: {prediction}\", f\"\\nLabel: {label}\")\n",
    "    \n",
    "    image = feature.squeeze(0).squeeze(0).cpu().numpy()\n",
    "\n",
    "    plt.imshow(image, cmap = 'grey')\n",
    "    plt.show()"
   ]
  },
  {
   "cell_type": "code",
   "execution_count": null,
   "id": "c10576d7-0c32-44fc-a006-0a7b06a7994a",
   "metadata": {},
   "outputs": [],
   "source": []
  }
 ],
 "metadata": {
  "kernelspec": {
   "display_name": "Python 3 (ipykernel)",
   "language": "python",
   "name": "python3"
  },
  "language_info": {
   "codemirror_mode": {
    "name": "ipython",
    "version": 3
   },
   "file_extension": ".py",
   "mimetype": "text/x-python",
   "name": "python",
   "nbconvert_exporter": "python",
   "pygments_lexer": "ipython3",
   "version": "3.11.4"
  }
 },
 "nbformat": 4,
 "nbformat_minor": 5
}
